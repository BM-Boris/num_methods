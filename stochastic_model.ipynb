{
  "nbformat": 4,
  "nbformat_minor": 0,
  "metadata": {
    "colab": {
      "provenance": []
    },
    "kernelspec": {
      "name": "python3",
      "display_name": "Python 3"
    }
  },
  "cells": [
    {
      "cell_type": "markdown",
      "metadata": {
        "id": "ckJn3ixRWcau"
      },
      "source": [
        "Одна траектория:"
      ]
    },
    {
      "cell_type": "code",
      "metadata": {
        "id": "Ywmy0mEw-k2m",
        "outputId": "2283c543-cfa7-4cc0-9e02-e04c752bf3c3",
        "colab": {
          "base_uri": "https://localhost:8080/",
          "height": 435
        }
      },
      "source": [
        "import numpy\n",
        "import matplotlib.pyplot as plt\n",
        "import numpy.random as npr\n",
        "import math\n",
        "\n",
        "def wait():\n",
        "    Twait=0\n",
        "    t=0\n",
        "    E=0\n",
        "    count=0\n",
        "    line=0\n",
        "    wait=0\n",
        "    u=5\n",
        "    l=3\n",
        "    n=3\n",
        "    out=0\n",
        "\n",
        "    time =[]\n",
        "    c = []\n",
        "    linea=[]\n",
        "    outs=[]\n",
        "    while t<480:\n",
        "        if t<1:\n",
        "          time.append(t)\n",
        "          c.append(count)\n",
        "        mi=min(count,n)\n",
        "        E=-math.log(npr.rand())/(l+mi*u)\n",
        "          \n",
        "        t=t+E\n",
        "        if count>n:\n",
        "            Twait+=(count-n)*E\n",
        "        if npr.rand()<mi*u/(l+mi*u):\n",
        "            count-=1\n",
        "        else:\n",
        "            count+=1\n",
        "            if(count<9):                 \n",
        "                  wait+=1\n",
        "                  if(count>n):\n",
        "                      line=count-n\n",
        "                      linea.append(line)\n",
        "\n",
        "                  else:\n",
        "                      line=0\n",
        "                      linea.append(line)\n",
        "            else:\n",
        "              out+=1\n",
        "              count-=1\n",
        "              \n",
        "            \n",
        "\n",
        "    print('Количество людей в системе через 8 часов:\\n', count)\n",
        "    p=len(linea)\n",
        "    l=0\n",
        "    for i in range(p):\n",
        "      l+=linea[i]\n",
        "    avl=l/len(linea)\n",
        "    print('Общее количество людей в системе за 8 часов:\\n', wait)\n",
        "    print('Средняя длина очереди:\\n', avl)\n",
        "    print ('Количество человек, ушедших из-за очереди:\\n',  out)\n",
        "\n",
        "\n",
        "\n",
        "\n",
        "    print('Среднее время ожидания:')      \n",
        "    plt.step(time, c)\n",
        "    return Twait/wait\n",
        "wait()"
      ],
      "execution_count": null,
      "outputs": [
        {
          "output_type": "stream",
          "text": [
            "Количество людей в системе через 8 часов:\n",
            " 1\n",
            "Общее количество людей в системе за 8 часов:\n",
            " 1541\n",
            "Средняя длина очереди:\n",
            " 0.02855288773523686\n",
            "Количество человек, ушедших из-за очереди:\n",
            " 0\n",
            "Среднее время ожидания:\n"
          ],
          "name": "stdout"
        },
        {
          "output_type": "execute_result",
          "data": {
            "text/plain": [
              "0.0022449262277222316"
            ]
          },
          "metadata": {
            "tags": []
          },
          "execution_count": 2
        },
        {
          "output_type": "display_data",
          "data": {
            "image/png": "[encoded data removed]",
            "text/plain": [
              "<Figure size 432x288 with 1 Axes>"
            ]
          },
          "metadata": {
            "tags": [],
            "needs_background": "light"
          }
        }
      ]
    },
    {
      "cell_type": "markdown",
      "metadata": {
        "id": "HSHz6zqWbGRd"
      },
      "source": [
        "Среднее время ожидания за 1000 траекторий"
      ]
    },
    {
      "cell_type": "code",
      "metadata": {
        "id": "iEShjv39_2uy",
        "outputId": "b43efcef-6fec-4ec2-a8e6-d5a496e856f8",
        "colab": {
          "base_uri": "https://localhost:8080/",
          "height": 34
        }
      },
      "source": [
        "import numpy\n",
        "import matplotlib.pyplot as plt\n",
        "import numpy.random as npr\n",
        "import math\n",
        "\n",
        "def wait():\n",
        "    Twait=0\n",
        "    t=0\n",
        "    E=0\n",
        "    count=0\n",
        "    line=0\n",
        "    wait=0\n",
        "    u=5\n",
        "    l=3\n",
        "    n=3\n",
        "    out=0\n",
        "\n",
        "    time =[]\n",
        "    c = []\n",
        "    linea=[]\n",
        "    outs=[]\n",
        "    while t<480:\n",
        "        if t<480:\n",
        "          time.append(t)\n",
        "          c.append(count)\n",
        "        mi=min(count,n)\n",
        "        E=-math.log(npr.rand())/(l+mi*u)\n",
        "          \n",
        "        t=t+E\n",
        "        if count>n:\n",
        "            Twait+=(count-n)*E\n",
        "        if npr.rand()<mi*u/(l+mi*u):\n",
        "            count-=1\n",
        "        else:\n",
        "            count+=1\n",
        "            if(count<9):                 \n",
        "                  wait+=1\n",
        "                  if(count>n):\n",
        "                      line=count-n\n",
        "                      linea.append(line)\n",
        "\n",
        "                  else:\n",
        "                      line=0\n",
        "                      linea.append(line)\n",
        "            else:\n",
        "              out+=1\n",
        "              count-=1\n",
        "              \n",
        "    return Twait/wait\n",
        "sum([wait() for i in range(1000)])/1000"
      ],
      "execution_count": null,
      "outputs": [
        {
          "output_type": "execute_result",
          "data": {
            "text/plain": [
              "0.002057012222154187"
            ]
          },
          "metadata": {
            "tags": []
          },
          "execution_count": 3
        }
      ]
    }
  ]
}