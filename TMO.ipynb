{
  "nbformat": 4,
  "nbformat_minor": 0,
  "metadata": {
    "kernelspec": {
      "display_name": "Python 3",
      "language": "python",
      "name": "python3"
    },
    "language_info": {
      "codemirror_mode": {
        "name": "ipython",
        "version": 3
      },
      "file_extension": ".py",
      "mimetype": "text/x-python",
      "name": "python",
      "nbconvert_exporter": "python",
      "pygments_lexer": "ipython3",
      "version": "3.7.4"
    },
    "colab": {
      "provenance": []
    }
  },
  "cells": [
    {
      "cell_type": "code",
      "metadata": {
        "id": "_OvFSH1ypM7z",
        "colab": {
          "base_uri": "https://localhost:8080/",
          "height": 282
        },
        "outputId": "2c9f4748-3b5c-4e39-e39d-ce8ea6a1a20d"
      },
      "source": [
        "\n",
        "import numpy\n",
        "import matplotlib.pyplot as plt\n",
        "import numpy.random as npr\n",
        "import math\n",
        "\n",
        "def wait():\n",
        "    Twait=0\n",
        "    t=0\n",
        "    E=0\n",
        "    count=0\n",
        "    line=0\n",
        "    u=5\n",
        "    l=8\n",
        "    n=2\n",
        "\n",
        "    time =[]\n",
        "    c = []\n",
        "    while t<8:\n",
        "        \n",
        "        mi=min(count,n)\n",
        "        E=-math.log(npr.rand())/(l+mi*u)\n",
        "          \n",
        "        t=t+E\n",
        "        if t<8:\n",
        "          time.append(t)\n",
        "          c.append(count)\n",
        "          \n",
        "        if count>n:\n",
        "          Twait+=(count-n)*E\n",
        "        if npr.rand()<mi*u/(l+mi*u):\n",
        "            count-=1\n",
        "        else:\n",
        "            count+=1 \n",
        "            line+=1 \n",
        "    plt.step(time, c)\n",
        "    return Twait/line\n",
        "\n",
        "wait()"
      ],
      "execution_count": null,
      "outputs": [
        {
          "output_type": "execute_result",
          "data": {
            "text/plain": [
              "0.15758032769760508"
            ]
          },
          "metadata": {
            "tags": []
          },
          "execution_count": 10
        },
        {
          "output_type": "display_data",
          "data": {
            "image/png": "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\n",
            "text/plain": [
              "<Figure size 432x288 with 1 Axes>"
            ]
          },
          "metadata": {
            "tags": [],
            "needs_background": "light"
          }
        }
      ]
    },
    {
      "cell_type": "code",
      "metadata": {
        "id": "PHUFFNwMpM76",
        "colab": {
          "base_uri": "https://localhost:8080/",
          "height": 282
        },
        "outputId": "2040232d-1573-4ca7-cdd3-8ba236528302"
      },
      "source": [
        "\n"
      ],
      "execution_count": null,
      "outputs": [
        {
          "output_type": "execute_result",
          "data": {
            "text/plain": [
              "0.2203243547391837"
            ]
          },
          "metadata": {
            "tags": []
          },
          "execution_count": 8
        }
        }
      ]
    }
  ]
}
